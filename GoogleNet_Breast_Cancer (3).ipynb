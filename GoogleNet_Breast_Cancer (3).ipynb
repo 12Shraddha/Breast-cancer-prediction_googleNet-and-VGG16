{
  "nbformat": 4,
  "nbformat_minor": 5,
  "metadata": {
    "colab": {
      "name": "GoogleNet_Breast Cancer.ipynb",
      "provenance": [],
      "collapsed_sections": []
    },
    "kernelspec": {
      "display_name": "Python 3",
      "language": "python",
      "name": "python3"
    },
    "accelerator": "GPU"
  },
  "cells": [
    {
      "cell_type": "code",
      "metadata": {
        "id": "d80ca651"
      },
      "source": [
        "import pandas as pd\n",
        "import numpy as np\n",
        "from glob import glob\n",
        "import random"
      ],
      "id": "d80ca651",
      "execution_count": null,
      "outputs": []
    },
    {
      "cell_type": "code",
      "metadata": {
        "colab": {
          "base_uri": "https://localhost:8080/"
        },
        "id": "lW1TnlFgl7mp",
        "outputId": "59a45d24-7aef-4713-a412-26479ddae0f1"
      },
      "source": [
        "from google.colab import drive\n",
        "drive.mount('/content/drive')"
      ],
      "id": "lW1TnlFgl7mp",
      "execution_count": null,
      "outputs": [
        {
          "output_type": "stream",
          "text": [
            "Mounted at /content/drive\n"
          ],
          "name": "stdout"
        }
      ]
    },
    {
      "cell_type": "code",
      "metadata": {
        "colab": {
          "base_uri": "https://localhost:8080/"
        },
        "id": "4487214c",
        "outputId": "a4b7d0e9-d992-48eb-c616-edc129bb716f"
      },
      "source": [
        "mypath=[]\n",
        "for name in glob(\"drive/My Drive/dataset/9043/*\",recursive=True):\n",
        "    mypath.append(name)\n",
        "    print(name)    "
      ],
      "id": "4487214c",
      "execution_count": null,
      "outputs": [
        {
          "output_type": "stream",
          "text": [
            "drive/My Drive/dataset/9043/0\n",
            "drive/My Drive/dataset/9043/1\n"
          ],
          "name": "stdout"
        }
      ]
    },
    {
      "cell_type": "code",
      "metadata": {
        "colab": {
          "base_uri": "https://localhost:8080/"
        },
        "id": "9f93c228",
        "outputId": "efd7497a-db12-4c1b-fce1-4b17e5f5a8e7"
      },
      "source": [
        "len(mypath)"
      ],
      "id": "9f93c228",
      "execution_count": null,
      "outputs": [
        {
          "output_type": "execute_result",
          "data": {
            "text/plain": [
              "2"
            ]
          },
          "metadata": {
            "tags": []
          },
          "execution_count": 4
        }
      ]
    },
    {
      "cell_type": "code",
      "metadata": {
        "id": "cf009f12"
      },
      "source": [
        "import os\n",
        "mypath=[]\n",
        "for dirname, _, filenames in os.walk(\"./drive/ My Drive/dataset/9043\"):\n",
        "    for filename in filenames:\n",
        "        mypath.append(os.path.join(dirname, filename))\n",
        "class0=[]\n",
        "class1=[]\n",
        "for i in mypath:\n",
        "    if '1.png' in i:\n",
        "        class1.append(i)\n",
        "    else:\n",
        "        class0.append(i)         "
      ],
      "id": "cf009f12",
      "execution_count": null,
      "outputs": []
    },
    {
      "cell_type": "code",
      "metadata": {
        "colab": {
          "base_uri": "https://localhost:8080/"
        },
        "id": "792f8196",
        "outputId": "98677c6c-50c9-4ae9-c240-3fb8ceb6d87b"
      },
      "source": [
        "mypath[0:5]"
      ],
      "id": "792f8196",
      "execution_count": null,
      "outputs": [
        {
          "output_type": "execute_result",
          "data": {
            "text/plain": [
              "['./drive/ My Drive/dataset/9043/0/9041_idx5_x2251_y1251_class1.png',\n",
              " './drive/ My Drive/dataset/9043/0/9041_idx5_x2251_y1301_class1.png',\n",
              " './drive/ My Drive/dataset/9043/0/9041_idx5_x2251_y1351_class1.png',\n",
              " './drive/ My Drive/dataset/9043/0/9041_idx5_x2251_y1401_class1.png',\n",
              " './drive/ My Drive/dataset/9043/0/9041_idx5_x2251_y1451_class1.png']"
            ]
          },
          "metadata": {
            "tags": []
          },
          "execution_count": 6
        }
      ]
    },
    {
      "cell_type": "code",
      "metadata": {
        "colab": {
          "base_uri": "https://localhost:8080/"
        },
        "id": "f420deb0",
        "outputId": "aea5e383-097b-41d5-8362-b0936e794fcf"
      },
      "source": [
        "class0[0:5]\n"
      ],
      "id": "f420deb0",
      "execution_count": null,
      "outputs": [
        {
          "output_type": "execute_result",
          "data": {
            "text/plain": [
              "['./drive/ My Drive/dataset/9043/0/9043_idx5_x101_y1001_class0.png',\n",
              " './drive/ My Drive/dataset/9043/0/9043_idx5_x101_y1051_class0.png',\n",
              " './drive/ My Drive/dataset/9043/0/9043_idx5_x101_y1101_class0.png',\n",
              " './drive/ My Drive/dataset/9043/0/9043_idx5_x101_y701_class0.png',\n",
              " './drive/ My Drive/dataset/9043/0/9043_idx5_x101_y751_class0.png']"
            ]
          },
          "metadata": {
            "tags": []
          },
          "execution_count": 7
        }
      ]
    },
    {
      "cell_type": "code",
      "metadata": {
        "colab": {
          "base_uri": "https://localhost:8080/"
        },
        "id": "a6318b3f",
        "outputId": "7b3da838-a8c0-4af1-f55c-29d3b47603c3"
      },
      "source": [
        "print(len(class0),len(class1))"
      ],
      "id": "a6318b3f",
      "execution_count": null,
      "outputs": [
        {
          "output_type": "stream",
          "text": [
            "296 605\n"
          ],
          "name": "stdout"
        }
      ]
    },
    {
      "cell_type": "code",
      "metadata": {
        "id": "cnhTwMfDFbge"
      },
      "source": [
        "import keras\n",
        "from keras.layers.core import Layer\n",
        "import keras.backend as K\n",
        "import tensorflow as tf\n",
        "from keras.datasets import cifar10\n",
        "from keras.models import Model\n",
        "from keras.layers import Conv2D, MaxPool2D,  \\\n",
        "    Dropout, Dense, Input, concatenate,      \\\n",
        "    GlobalAveragePooling2D, AveragePooling2D,\\\n",
        "    Flatten\n",
        "\n",
        "import cv2 \n",
        "import numpy as np \n",
        "from keras.datasets import cifar10 \n",
        "from keras import backend as K \n",
        "from keras.utils import np_utils\n",
        "\n",
        "import math \n",
        "from keras.optimizers import SGD \n",
        "from keras.callbacks import LearningRateScheduler"
      ],
      "id": "cnhTwMfDFbge",
      "execution_count": null,
      "outputs": []
    },
    {
      "cell_type": "code",
      "metadata": {
        "id": "c45c1c98",
        "colab": {
          "base_uri": "https://localhost:8080/"
        },
        "outputId": "5c402818-1423-48c5-e40d-83080b899a55"
      },
      "source": [
        "from keras.preprocessing.image import ImageDataGenerator\n",
        "sampled_class0 = random.sample(class0,len(class0))\n",
        "sampled_class1 = random.sample(class1, len(class1))\n",
        "len(sampled_class0)\n",
        "from matplotlib.image import imread\n",
        "import cv2\n",
        "\n",
        "def get_image_arrays(data, label):\n",
        "    img_arrays = []\n",
        "    for i in data:\n",
        "      if i.endswith('.png'):\n",
        "        img = cv2.imread(i ,cv2.IMREAD_COLOR)\n",
        "        img_sized = np.array(cv2.resize(img, (224, 224)))\n",
        "        img_arrays.append([img_sized, label])\n",
        "    return img_arrays\n",
        "\n",
        "class0=None;\n",
        "class1=None;\n",
        "import gc\n",
        "class0_array = get_image_arrays(sampled_class0, 0)\n",
        "class1_array = get_image_arrays(sampled_class1, 1)\n",
        "\n",
        "print('done')"
      ],
      "id": "c45c1c98",
      "execution_count": null,
      "outputs": [
        {
          "output_type": "stream",
          "text": [
            "done\n"
          ],
          "name": "stdout"
        }
      ]
    },
    {
      "cell_type": "code",
      "metadata": {
        "id": "136b21b8",
        "colab": {
          "base_uri": "https://localhost:8080/"
        },
        "outputId": "941f745e-398e-410a-9d68-dc8be74dea4a"
      },
      "source": [
        "combined_data = np.concatenate((class0_array, class1_array))\n",
        "random.seed(41)\n",
        "random.shuffle(combined_data)"
      ],
      "id": "136b21b8",
      "execution_count": null,
      "outputs": [
        {
          "output_type": "stream",
          "text": [
            "<string>:6: VisibleDeprecationWarning: Creating an ndarray from ragged nested sequences (which is a list-or-tuple of lists-or-tuples-or ndarrays with different lengths or shapes) is deprecated. If you meant to do this, you must specify 'dtype=object' when creating the ndarray\n"
          ],
          "name": "stderr"
        }
      ]
    },
    {
      "cell_type": "code",
      "metadata": {
        "id": "c692ff9d",
        "colab": {
          "base_uri": "https://localhost:8080/"
        },
        "outputId": "98187f0a-389b-4377-9c34-cb3e71221afe"
      },
      "source": [
        "len(combined_data)"
      ],
      "id": "c692ff9d",
      "execution_count": null,
      "outputs": [
        {
          "output_type": "execute_result",
          "data": {
            "text/plain": [
              "901"
            ]
          },
          "metadata": {
            "tags": []
          },
          "execution_count": 12
        }
      ]
    },
    {
      "cell_type": "code",
      "metadata": {
        "id": "6c5061cb"
      },
      "source": [
        "X = []\n",
        "y = []\n",
        "\n",
        "for features,label in combined_data:\n",
        "    X.append(features)\n",
        "    y.append(label)"
      ],
      "id": "6c5061cb",
      "execution_count": null,
      "outputs": []
    },
    {
      "cell_type": "code",
      "metadata": {
        "id": "56516554",
        "colab": {
          "base_uri": "https://localhost:8080/"
        },
        "outputId": "b7aaaf2b-2d29-41f4-918b-7490f9349e54"
      },
      "source": [
        "print(len(X))\n",
        "print(len(y))\n"
      ],
      "id": "56516554",
      "execution_count": null,
      "outputs": [
        {
          "output_type": "stream",
          "text": [
            "901\n",
            "901\n"
          ],
          "name": "stdout"
        }
      ]
    },
    {
      "cell_type": "code",
      "metadata": {
        "id": "89o6FfcrVTlm"
      },
      "source": [
        "X = np.array(X).reshape(-1, 224, 224, 3)"
      ],
      "id": "89o6FfcrVTlm",
      "execution_count": null,
      "outputs": []
    },
    {
      "cell_type": "code",
      "metadata": {
        "id": "8ccb5c94",
        "colab": {
          "base_uri": "https://localhost:8080/"
        },
        "outputId": "ec99f508-2ed5-4ecf-d422-585012ae239d"
      },
      "source": [
        "from sklearn.model_selection import train_test_split\n",
        "from keras.utils.np_utils import to_categorical\n",
        "\n",
        "num_classes = 10\n",
        "X_train, X_test, y_train, y_test = train_test_split(X, y, test_size=0.1, random_state=10)\n",
        "y_train = to_categorical(y_train,num_classes)\n",
        "y_test = to_categorical(y_test, num_classes)\n",
        "print(X_train.shape, X_test.shape, y_train.shape, y_test.shape)"
      ],
      "id": "8ccb5c94",
      "execution_count": null,
      "outputs": [
        {
          "output_type": "stream",
          "text": [
            "(810, 224, 224, 3) (91, 224, 224, 3) (810, 10) (91, 10)\n"
          ],
          "name": "stdout"
        }
      ]
    },
    {
      "cell_type": "code",
      "metadata": {
        "id": "_zG0QwWtAwSF"
      },
      "source": [
        ""
      ],
      "id": "_zG0QwWtAwSF",
      "execution_count": null,
      "outputs": []
    },
    {
      "cell_type": "code",
      "metadata": {
        "id": "Dtkz-fbcGes0"
      },
      "source": [
        "    X_train = X_train.astype('float32')\n",
        "    X_test = X_test.astype('float32')"
      ],
      "id": "Dtkz-fbcGes0",
      "execution_count": null,
      "outputs": []
    },
    {
      "cell_type": "code",
      "metadata": {
        "id": "IKnZT4SfLBIr"
      },
      "source": [
        "X_train=X_train/255.0\n",
        "X_test=X_test/255.0"
      ],
      "id": "IKnZT4SfLBIr",
      "execution_count": null,
      "outputs": []
    },
    {
      "cell_type": "code",
      "metadata": {
        "id": "aa0e0af9"
      },
      "source": [
        "def inception_module(x,\n",
        "                     filters_1x1,\n",
        "                     filters_3x3_reduce,\n",
        "                     filters_3x3,\n",
        "                     filters_5x5_reduce,\n",
        "                     filters_5x5,\n",
        "                     filters_pool_proj,\n",
        "                     name=None):\n",
        "    \n",
        "    conv_1x1 = Conv2D(filters_1x1, (1, 1), padding='same', activation='relu', kernel_initializer=kernel_init, bias_initializer=bias_init)(x)\n",
        "    \n",
        "    conv_3x3 = Conv2D(filters_3x3_reduce, (1, 1), padding='same', activation='relu', kernel_initializer=kernel_init, bias_initializer=bias_init)(x)\n",
        "    conv_3x3 = Conv2D(filters_3x3, (3, 3), padding='same', activation='relu', kernel_initializer=kernel_init, bias_initializer=bias_init)(conv_3x3)\n",
        "\n",
        "    conv_5x5 = Conv2D(filters_5x5_reduce, (1, 1), padding='same', activation='relu', kernel_initializer=kernel_init, bias_initializer=bias_init)(x)\n",
        "    conv_5x5 = Conv2D(filters_5x5, (5, 5), padding='same', activation='relu', kernel_initializer=kernel_init, bias_initializer=bias_init)(conv_5x5)\n",
        "\n",
        "    pool_proj = MaxPool2D((3, 3), strides=(1, 1), padding='same')(x)\n",
        "    pool_proj = Conv2D(filters_pool_proj, (1, 1), padding='same', activation='relu', kernel_initializer=kernel_init, bias_initializer=bias_init)(pool_proj)\n",
        "\n",
        "    output = concatenate([conv_1x1, conv_3x3, conv_5x5, pool_proj], axis=3, name=name)\n",
        "    \n",
        "    return output"
      ],
      "id": "aa0e0af9",
      "execution_count": null,
      "outputs": []
    },
    {
      "cell_type": "code",
      "metadata": {
        "id": "04a42fda"
      },
      "source": [
        "kernel_init = keras.initializers.glorot_uniform()\n",
        "bias_init = keras.initializers.Constant(value=0.2)\n"
      ],
      "id": "04a42fda",
      "execution_count": null,
      "outputs": []
    },
    {
      "cell_type": "code",
      "metadata": {
        "id": "cW3cwMc6B0BT"
      },
      "source": [
        "input_layer = Input(shape=(224, 224, 3))\n",
        "\n",
        "x = Conv2D(64, (7, 7), padding='same', strides=(2, 2), activation='relu', name='conv_1_7x7/2', kernel_initializer=kernel_init, bias_initializer=bias_init)(input_layer)\n",
        "x = MaxPool2D((3, 3), padding='same', strides=(2, 2), name='max_pool_1_3x3/2')(x)\n",
        "x = Conv2D(64, (1, 1), padding='same', strides=(1, 1), activation='relu', name='conv_2a_3x3/1')(x)\n",
        "x = Conv2D(192, (3, 3), padding='same', strides=(1, 1), activation='relu', name='conv_2b_3x3/1')(x)\n",
        "x = MaxPool2D((3, 3), padding='same', strides=(2, 2), name='max_pool_2_3x3/2')(x)\n",
        "\n",
        "x = inception_module(x,\n",
        "                     filters_1x1=64,\n",
        "                     filters_3x3_reduce=96,\n",
        "                     filters_3x3=128,\n",
        "                     filters_5x5_reduce=16,\n",
        "                     filters_5x5=32,\n",
        "                     filters_pool_proj=32,\n",
        "                     name='inception_3a')\n",
        "x = inception_module(x,\n",
        "                     filters_1x1=128,\n",
        "                     filters_3x3_reduce=128,\n",
        "                     filters_3x3=192,\n",
        "                     filters_5x5_reduce=32,\n",
        "                     filters_5x5=96,\n",
        "                     filters_pool_proj=64,\n",
        "                     name='inception_3b')\n",
        "\n",
        "x = MaxPool2D((3, 3), padding='same', strides=(2, 2), name='max_pool_3_3x3/2')(x)\n",
        "\n",
        "x = inception_module(x,\n",
        "                     filters_1x1=192,\n",
        "                     filters_3x3_reduce=96,\n",
        "                     filters_3x3=208,\n",
        "                     filters_5x5_reduce=16,\n",
        "                     filters_5x5=48,\n",
        "                     filters_pool_proj=64,\n",
        "                     name='inception_4a')\n",
        "\n",
        "\n",
        "x1 = AveragePooling2D((5, 5), strides=3)(x)\n",
        "x1 = Conv2D(128, (1, 1), padding='same', activation='relu')(x1)\n",
        "x1 = Flatten()(x1)\n",
        "x1 = Dense(1024, activation='relu')(x1)\n",
        "x1 = Dropout(0.7)(x1)\n",
        "x1 = Dense(10, activation='softmax', name='auxilliary_output_1')(x1)\n",
        "\n",
        "x = inception_module(x,\n",
        "                     filters_1x1=160,\n",
        "                     filters_3x3_reduce=112,\n",
        "                     filters_3x3=224,\n",
        "                     filters_5x5_reduce=24,\n",
        "                     filters_5x5=64,\n",
        "                     filters_pool_proj=64,\n",
        "                     name='inception_4b')\n",
        "\n",
        "x = inception_module(x,\n",
        "                     filters_1x1=128,\n",
        "                     filters_3x3_reduce=128,\n",
        "                     filters_3x3=256,\n",
        "                     filters_5x5_reduce=24,\n",
        "                     filters_5x5=64,\n",
        "                     filters_pool_proj=64,\n",
        "                     name='inception_4c')\n",
        "\n",
        "x = inception_module(x,\n",
        "                     filters_1x1=112,\n",
        "                     filters_3x3_reduce=144,\n",
        "                     filters_3x3=288,\n",
        "                     filters_5x5_reduce=32,\n",
        "                     filters_5x5=64,\n",
        "                     filters_pool_proj=64,\n",
        "                     name='inception_4d')\n",
        "\n",
        "\n",
        "x2 = AveragePooling2D((5, 5), strides=3)(x)\n",
        "x2 = Conv2D(128, (1, 1), padding='same', activation='relu')(x2)\n",
        "x2 = Flatten()(x2)\n",
        "x2 = Dense(1024, activation='relu')(x2)\n",
        "x2 = Dropout(0.7)(x2)\n",
        "x2 = Dense(10, activation='softmax', name='auxilliary_output_2')(x2)\n",
        "\n",
        "x = inception_module(x,\n",
        "                     filters_1x1=256,\n",
        "                     filters_3x3_reduce=160,\n",
        "                     filters_3x3=320,\n",
        "                     filters_5x5_reduce=32,\n",
        "                     filters_5x5=128,\n",
        "                     filters_pool_proj=128,\n",
        "                     name='inception_4e')\n",
        "\n",
        "x = MaxPool2D((3, 3), padding='same', strides=(2, 2), name='max_pool_4_3x3/2')(x)\n",
        "\n",
        "x = inception_module(x,\n",
        "                     filters_1x1=256,\n",
        "                     filters_3x3_reduce=160,\n",
        "                     filters_3x3=320,\n",
        "                     filters_5x5_reduce=32,\n",
        "                     filters_5x5=128,\n",
        "                     filters_pool_proj=128,\n",
        "                     name='inception_5a')\n",
        "\n",
        "x = inception_module(x,\n",
        "                     filters_1x1=384,\n",
        "                     filters_3x3_reduce=192,\n",
        "                     filters_3x3=384,\n",
        "                     filters_5x5_reduce=48,\n",
        "                     filters_5x5=128,\n",
        "                     filters_pool_proj=128,\n",
        "                     name='inception_5b')\n",
        "\n",
        "x = GlobalAveragePooling2D(name='avg_pool_5_3x3/1')(x)\n",
        "\n",
        "x = Dropout(0.4)(x)\n",
        "\n",
        "x = Dense(10, activation='softmax', name='output')(x)"
      ],
      "id": "cW3cwMc6B0BT",
      "execution_count": null,
      "outputs": []
    },
    {
      "cell_type": "code",
      "metadata": {
        "id": "5e9c1bf8"
      },
      "source": [
        "model = Model(input_layer, [x, x1, x2], name='inception_v1')"
      ],
      "id": "5e9c1bf8",
      "execution_count": null,
      "outputs": []
    },
    {
      "cell_type": "code",
      "metadata": {
        "colab": {
          "base_uri": "https://localhost:8080/"
        },
        "id": "NU6XBbp-Ifpr",
        "outputId": "563f009c-bb54-413a-df66-9cb5ba22bb58"
      },
      "source": [
        "model.summary()"
      ],
      "id": "NU6XBbp-Ifpr",
      "execution_count": null,
      "outputs": [
        {
          "output_type": "stream",
          "text": [
            "Model: \"inception_v1\"\n",
            "__________________________________________________________________________________________________\n",
            "Layer (type)                    Output Shape         Param #     Connected to                     \n",
            "==================================================================================================\n",
            "input_1 (InputLayer)            [(None, 224, 224, 3) 0                                            \n",
            "__________________________________________________________________________________________________\n",
            "conv_1_7x7/2 (Conv2D)           (None, 112, 112, 64) 9472        input_1[0][0]                    \n",
            "__________________________________________________________________________________________________\n",
            "max_pool_1_3x3/2 (MaxPooling2D) (None, 56, 56, 64)   0           conv_1_7x7/2[0][0]               \n",
            "__________________________________________________________________________________________________\n",
            "conv_2a_3x3/1 (Conv2D)          (None, 56, 56, 64)   4160        max_pool_1_3x3/2[0][0]           \n",
            "__________________________________________________________________________________________________\n",
            "conv_2b_3x3/1 (Conv2D)          (None, 56, 56, 192)  110784      conv_2a_3x3/1[0][0]              \n",
            "__________________________________________________________________________________________________\n",
            "max_pool_2_3x3/2 (MaxPooling2D) (None, 28, 28, 192)  0           conv_2b_3x3/1[0][0]              \n",
            "__________________________________________________________________________________________________\n",
            "conv2d_1 (Conv2D)               (None, 28, 28, 96)   18528       max_pool_2_3x3/2[0][0]           \n",
            "__________________________________________________________________________________________________\n",
            "conv2d_3 (Conv2D)               (None, 28, 28, 16)   3088        max_pool_2_3x3/2[0][0]           \n",
            "__________________________________________________________________________________________________\n",
            "max_pooling2d (MaxPooling2D)    (None, 28, 28, 192)  0           max_pool_2_3x3/2[0][0]           \n",
            "__________________________________________________________________________________________________\n",
            "conv2d (Conv2D)                 (None, 28, 28, 64)   12352       max_pool_2_3x3/2[0][0]           \n",
            "__________________________________________________________________________________________________\n",
            "conv2d_2 (Conv2D)               (None, 28, 28, 128)  110720      conv2d_1[0][0]                   \n",
            "__________________________________________________________________________________________________\n",
            "conv2d_4 (Conv2D)               (None, 28, 28, 32)   12832       conv2d_3[0][0]                   \n",
            "__________________________________________________________________________________________________\n",
            "conv2d_5 (Conv2D)               (None, 28, 28, 32)   6176        max_pooling2d[0][0]              \n",
            "__________________________________________________________________________________________________\n",
            "inception_3a (Concatenate)      (None, 28, 28, 256)  0           conv2d[0][0]                     \n",
            "                                                                 conv2d_2[0][0]                   \n",
            "                                                                 conv2d_4[0][0]                   \n",
            "                                                                 conv2d_5[0][0]                   \n",
            "__________________________________________________________________________________________________\n",
            "conv2d_7 (Conv2D)               (None, 28, 28, 128)  32896       inception_3a[0][0]               \n",
            "__________________________________________________________________________________________________\n",
            "conv2d_9 (Conv2D)               (None, 28, 28, 32)   8224        inception_3a[0][0]               \n",
            "__________________________________________________________________________________________________\n",
            "max_pooling2d_1 (MaxPooling2D)  (None, 28, 28, 256)  0           inception_3a[0][0]               \n",
            "__________________________________________________________________________________________________\n",
            "conv2d_6 (Conv2D)               (None, 28, 28, 128)  32896       inception_3a[0][0]               \n",
            "__________________________________________________________________________________________________\n",
            "conv2d_8 (Conv2D)               (None, 28, 28, 192)  221376      conv2d_7[0][0]                   \n",
            "__________________________________________________________________________________________________\n",
            "conv2d_10 (Conv2D)              (None, 28, 28, 96)   76896       conv2d_9[0][0]                   \n",
            "__________________________________________________________________________________________________\n",
            "conv2d_11 (Conv2D)              (None, 28, 28, 64)   16448       max_pooling2d_1[0][0]            \n",
            "__________________________________________________________________________________________________\n",
            "inception_3b (Concatenate)      (None, 28, 28, 480)  0           conv2d_6[0][0]                   \n",
            "                                                                 conv2d_8[0][0]                   \n",
            "                                                                 conv2d_10[0][0]                  \n",
            "                                                                 conv2d_11[0][0]                  \n",
            "__________________________________________________________________________________________________\n",
            "max_pool_3_3x3/2 (MaxPooling2D) (None, 14, 14, 480)  0           inception_3b[0][0]               \n",
            "__________________________________________________________________________________________________\n",
            "conv2d_13 (Conv2D)              (None, 14, 14, 96)   46176       max_pool_3_3x3/2[0][0]           \n",
            "__________________________________________________________________________________________________\n",
            "conv2d_15 (Conv2D)              (None, 14, 14, 16)   7696        max_pool_3_3x3/2[0][0]           \n",
            "__________________________________________________________________________________________________\n",
            "max_pooling2d_2 (MaxPooling2D)  (None, 14, 14, 480)  0           max_pool_3_3x3/2[0][0]           \n",
            "__________________________________________________________________________________________________\n",
            "conv2d_12 (Conv2D)              (None, 14, 14, 192)  92352       max_pool_3_3x3/2[0][0]           \n",
            "__________________________________________________________________________________________________\n",
            "conv2d_14 (Conv2D)              (None, 14, 14, 208)  179920      conv2d_13[0][0]                  \n",
            "__________________________________________________________________________________________________\n",
            "conv2d_16 (Conv2D)              (None, 14, 14, 48)   19248       conv2d_15[0][0]                  \n",
            "__________________________________________________________________________________________________\n",
            "conv2d_17 (Conv2D)              (None, 14, 14, 64)   30784       max_pooling2d_2[0][0]            \n",
            "__________________________________________________________________________________________________\n",
            "inception_4a (Concatenate)      (None, 14, 14, 512)  0           conv2d_12[0][0]                  \n",
            "                                                                 conv2d_14[0][0]                  \n",
            "                                                                 conv2d_16[0][0]                  \n",
            "                                                                 conv2d_17[0][0]                  \n",
            "__________________________________________________________________________________________________\n",
            "conv2d_20 (Conv2D)              (None, 14, 14, 112)  57456       inception_4a[0][0]               \n",
            "__________________________________________________________________________________________________\n",
            "conv2d_22 (Conv2D)              (None, 14, 14, 24)   12312       inception_4a[0][0]               \n",
            "__________________________________________________________________________________________________\n",
            "max_pooling2d_3 (MaxPooling2D)  (None, 14, 14, 512)  0           inception_4a[0][0]               \n",
            "__________________________________________________________________________________________________\n",
            "conv2d_19 (Conv2D)              (None, 14, 14, 160)  82080       inception_4a[0][0]               \n",
            "__________________________________________________________________________________________________\n",
            "conv2d_21 (Conv2D)              (None, 14, 14, 224)  226016      conv2d_20[0][0]                  \n",
            "__________________________________________________________________________________________________\n",
            "conv2d_23 (Conv2D)              (None, 14, 14, 64)   38464       conv2d_22[0][0]                  \n",
            "__________________________________________________________________________________________________\n",
            "conv2d_24 (Conv2D)              (None, 14, 14, 64)   32832       max_pooling2d_3[0][0]            \n",
            "__________________________________________________________________________________________________\n",
            "inception_4b (Concatenate)      (None, 14, 14, 512)  0           conv2d_19[0][0]                  \n",
            "                                                                 conv2d_21[0][0]                  \n",
            "                                                                 conv2d_23[0][0]                  \n",
            "                                                                 conv2d_24[0][0]                  \n",
            "__________________________________________________________________________________________________\n",
            "conv2d_26 (Conv2D)              (None, 14, 14, 128)  65664       inception_4b[0][0]               \n",
            "__________________________________________________________________________________________________\n",
            "conv2d_28 (Conv2D)              (None, 14, 14, 24)   12312       inception_4b[0][0]               \n",
            "__________________________________________________________________________________________________\n",
            "max_pooling2d_4 (MaxPooling2D)  (None, 14, 14, 512)  0           inception_4b[0][0]               \n",
            "__________________________________________________________________________________________________\n",
            "conv2d_25 (Conv2D)              (None, 14, 14, 128)  65664       inception_4b[0][0]               \n",
            "__________________________________________________________________________________________________\n",
            "conv2d_27 (Conv2D)              (None, 14, 14, 256)  295168      conv2d_26[0][0]                  \n",
            "__________________________________________________________________________________________________\n",
            "conv2d_29 (Conv2D)              (None, 14, 14, 64)   38464       conv2d_28[0][0]                  \n",
            "__________________________________________________________________________________________________\n",
            "conv2d_30 (Conv2D)              (None, 14, 14, 64)   32832       max_pooling2d_4[0][0]            \n",
            "__________________________________________________________________________________________________\n",
            "inception_4c (Concatenate)      (None, 14, 14, 512)  0           conv2d_25[0][0]                  \n",
            "                                                                 conv2d_27[0][0]                  \n",
            "                                                                 conv2d_29[0][0]                  \n",
            "                                                                 conv2d_30[0][0]                  \n",
            "__________________________________________________________________________________________________\n",
            "conv2d_32 (Conv2D)              (None, 14, 14, 144)  73872       inception_4c[0][0]               \n",
            "__________________________________________________________________________________________________\n",
            "conv2d_34 (Conv2D)              (None, 14, 14, 32)   16416       inception_4c[0][0]               \n",
            "__________________________________________________________________________________________________\n",
            "max_pooling2d_5 (MaxPooling2D)  (None, 14, 14, 512)  0           inception_4c[0][0]               \n",
            "__________________________________________________________________________________________________\n",
            "conv2d_31 (Conv2D)              (None, 14, 14, 112)  57456       inception_4c[0][0]               \n",
            "__________________________________________________________________________________________________\n",
            "conv2d_33 (Conv2D)              (None, 14, 14, 288)  373536      conv2d_32[0][0]                  \n",
            "__________________________________________________________________________________________________\n",
            "conv2d_35 (Conv2D)              (None, 14, 14, 64)   51264       conv2d_34[0][0]                  \n",
            "__________________________________________________________________________________________________\n",
            "conv2d_36 (Conv2D)              (None, 14, 14, 64)   32832       max_pooling2d_5[0][0]            \n",
            "__________________________________________________________________________________________________\n",
            "inception_4d (Concatenate)      (None, 14, 14, 528)  0           conv2d_31[0][0]                  \n",
            "                                                                 conv2d_33[0][0]                  \n",
            "                                                                 conv2d_35[0][0]                  \n",
            "                                                                 conv2d_36[0][0]                  \n",
            "__________________________________________________________________________________________________\n",
            "conv2d_39 (Conv2D)              (None, 14, 14, 160)  84640       inception_4d[0][0]               \n",
            "__________________________________________________________________________________________________\n",
            "conv2d_41 (Conv2D)              (None, 14, 14, 32)   16928       inception_4d[0][0]               \n",
            "__________________________________________________________________________________________________\n",
            "max_pooling2d_6 (MaxPooling2D)  (None, 14, 14, 528)  0           inception_4d[0][0]               \n",
            "__________________________________________________________________________________________________\n",
            "conv2d_38 (Conv2D)              (None, 14, 14, 256)  135424      inception_4d[0][0]               \n",
            "__________________________________________________________________________________________________\n",
            "conv2d_40 (Conv2D)              (None, 14, 14, 320)  461120      conv2d_39[0][0]                  \n",
            "__________________________________________________________________________________________________\n",
            "conv2d_42 (Conv2D)              (None, 14, 14, 128)  102528      conv2d_41[0][0]                  \n",
            "__________________________________________________________________________________________________\n",
            "conv2d_43 (Conv2D)              (None, 14, 14, 128)  67712       max_pooling2d_6[0][0]            \n",
            "__________________________________________________________________________________________________\n",
            "inception_4e (Concatenate)      (None, 14, 14, 832)  0           conv2d_38[0][0]                  \n",
            "                                                                 conv2d_40[0][0]                  \n",
            "                                                                 conv2d_42[0][0]                  \n",
            "                                                                 conv2d_43[0][0]                  \n",
            "__________________________________________________________________________________________________\n",
            "max_pool_4_3x3/2 (MaxPooling2D) (None, 7, 7, 832)    0           inception_4e[0][0]               \n",
            "__________________________________________________________________________________________________\n",
            "conv2d_45 (Conv2D)              (None, 7, 7, 160)    133280      max_pool_4_3x3/2[0][0]           \n",
            "__________________________________________________________________________________________________\n",
            "conv2d_47 (Conv2D)              (None, 7, 7, 32)     26656       max_pool_4_3x3/2[0][0]           \n",
            "__________________________________________________________________________________________________\n",
            "max_pooling2d_7 (MaxPooling2D)  (None, 7, 7, 832)    0           max_pool_4_3x3/2[0][0]           \n",
            "__________________________________________________________________________________________________\n",
            "conv2d_44 (Conv2D)              (None, 7, 7, 256)    213248      max_pool_4_3x3/2[0][0]           \n",
            "__________________________________________________________________________________________________\n",
            "conv2d_46 (Conv2D)              (None, 7, 7, 320)    461120      conv2d_45[0][0]                  \n",
            "__________________________________________________________________________________________________\n",
            "conv2d_48 (Conv2D)              (None, 7, 7, 128)    102528      conv2d_47[0][0]                  \n",
            "__________________________________________________________________________________________________\n",
            "conv2d_49 (Conv2D)              (None, 7, 7, 128)    106624      max_pooling2d_7[0][0]            \n",
            "__________________________________________________________________________________________________\n",
            "inception_5a (Concatenate)      (None, 7, 7, 832)    0           conv2d_44[0][0]                  \n",
            "                                                                 conv2d_46[0][0]                  \n",
            "                                                                 conv2d_48[0][0]                  \n",
            "                                                                 conv2d_49[0][0]                  \n",
            "__________________________________________________________________________________________________\n",
            "conv2d_51 (Conv2D)              (None, 7, 7, 192)    159936      inception_5a[0][0]               \n",
            "__________________________________________________________________________________________________\n",
            "conv2d_53 (Conv2D)              (None, 7, 7, 48)     39984       inception_5a[0][0]               \n",
            "__________________________________________________________________________________________________\n",
            "max_pooling2d_8 (MaxPooling2D)  (None, 7, 7, 832)    0           inception_5a[0][0]               \n",
            "__________________________________________________________________________________________________\n",
            "average_pooling2d (AveragePooli (None, 4, 4, 512)    0           inception_4a[0][0]               \n",
            "__________________________________________________________________________________________________\n",
            "average_pooling2d_1 (AveragePoo (None, 4, 4, 528)    0           inception_4d[0][0]               \n",
            "__________________________________________________________________________________________________\n",
            "conv2d_50 (Conv2D)              (None, 7, 7, 384)    319872      inception_5a[0][0]               \n",
            "__________________________________________________________________________________________________\n",
            "conv2d_52 (Conv2D)              (None, 7, 7, 384)    663936      conv2d_51[0][0]                  \n",
            "__________________________________________________________________________________________________\n",
            "conv2d_54 (Conv2D)              (None, 7, 7, 128)    153728      conv2d_53[0][0]                  \n",
            "__________________________________________________________________________________________________\n",
            "conv2d_55 (Conv2D)              (None, 7, 7, 128)    106624      max_pooling2d_8[0][0]            \n",
            "__________________________________________________________________________________________________\n",
            "conv2d_18 (Conv2D)              (None, 4, 4, 128)    65664       average_pooling2d[0][0]          \n",
            "__________________________________________________________________________________________________\n",
            "conv2d_37 (Conv2D)              (None, 4, 4, 128)    67712       average_pooling2d_1[0][0]        \n",
            "__________________________________________________________________________________________________\n",
            "inception_5b (Concatenate)      (None, 7, 7, 1024)   0           conv2d_50[0][0]                  \n",
            "                                                                 conv2d_52[0][0]                  \n",
            "                                                                 conv2d_54[0][0]                  \n",
            "                                                                 conv2d_55[0][0]                  \n",
            "__________________________________________________________________________________________________\n",
            "flatten (Flatten)               (None, 2048)         0           conv2d_18[0][0]                  \n",
            "__________________________________________________________________________________________________\n",
            "flatten_1 (Flatten)             (None, 2048)         0           conv2d_37[0][0]                  \n",
            "__________________________________________________________________________________________________\n",
            "avg_pool_5_3x3/1 (GlobalAverage (None, 1024)         0           inception_5b[0][0]               \n",
            "__________________________________________________________________________________________________\n",
            "dense (Dense)                   (None, 1024)         2098176     flatten[0][0]                    \n",
            "__________________________________________________________________________________________________\n",
            "dense_1 (Dense)                 (None, 1024)         2098176     flatten_1[0][0]                  \n",
            "__________________________________________________________________________________________________\n",
            "dropout_2 (Dropout)             (None, 1024)         0           avg_pool_5_3x3/1[0][0]           \n",
            "__________________________________________________________________________________________________\n",
            "dropout (Dropout)               (None, 1024)         0           dense[0][0]                      \n",
            "__________________________________________________________________________________________________\n",
            "dropout_1 (Dropout)             (None, 1024)         0           dense_1[0][0]                    \n",
            "__________________________________________________________________________________________________\n",
            "output (Dense)                  (None, 10)           10250       dropout_2[0][0]                  \n",
            "__________________________________________________________________________________________________\n",
            "auxilliary_output_1 (Dense)     (None, 10)           10250       dropout[0][0]                    \n",
            "__________________________________________________________________________________________________\n",
            "auxilliary_output_2 (Dense)     (None, 10)           10250       dropout_1[0][0]                  \n",
            "==================================================================================================\n",
            "Total params: 10,334,030\n",
            "Trainable params: 10,334,030\n",
            "Non-trainable params: 0\n",
            "__________________________________________________________________________________________________\n"
          ],
          "name": "stdout"
        }
      ]
    },
    {
      "cell_type": "code",
      "metadata": {
        "id": "zrWRUYhzIj8D"
      },
      "source": [
        "epochs = 25\n",
        "initial_lrate = 0.01\n",
        "\n",
        "def decay(epoch, steps=100):\n",
        "    initial_lrate = 0.01\n",
        "    drop = 0.96\n",
        "    epochs_drop = 8\n",
        "    lrate = initial_lrate * math.pow(drop, math.floor((1+epoch)/epochs_drop))\n",
        "    return lrate\n",
        "\n",
        "sgd = SGD(learning_rate=initial_lrate, momentum=0.9, nesterov=False)\n",
        "\n",
        "lr_sc = LearningRateScheduler(decay, verbose=1)\n",
        "\n",
        "model.compile(loss=['categorical_crossentropy', 'categorical_crossentropy', 'categorical_crossentropy'], loss_weights=[1, 0.3, 0.3], optimizer=sgd, metrics=['accuracy'])"
      ],
      "id": "zrWRUYhzIj8D",
      "execution_count": null,
      "outputs": []
    },
    {
      "cell_type": "code",
      "metadata": {
        "colab": {
          "base_uri": "https://localhost:8080/"
        },
        "id": "O6qGOu1yQ629",
        "outputId": "edf93b17-f96f-4492-d72a-5d507de07c1d"
      },
      "source": [
        "history = model.fit(X_train, [y_train, y_train, y_train], validation_data=(X_test, [y_test, y_test, y_test]), epochs=epochs, batch_size=256, callbacks=[lr_sc])"
      ],
      "id": "O6qGOu1yQ629",
      "execution_count": null,
      "outputs": [
        {
          "output_type": "stream",
          "text": [
            "Epoch 1/25\n",
            "\n",
            "Epoch 00001: LearningRateScheduler reducing learning rate to 0.01.\n",
            "4/4 [==============================] - 74s 3s/step - loss: 3.1720 - output_loss: 1.9972 - auxilliary_output_1_loss: 1.8653 - auxilliary_output_2_loss: 2.0504 - output_accuracy: 0.3494 - auxilliary_output_1_accuracy: 0.3579 - auxilliary_output_2_accuracy: 0.2982 - val_loss: 1.0483 - val_output_loss: 0.6465 - val_auxilliary_output_1_loss: 0.6660 - val_auxilliary_output_2_loss: 0.6731 - val_output_accuracy: 0.7253 - val_auxilliary_output_1_accuracy: 0.7253 - val_auxilliary_output_2_accuracy: 0.7253\n",
            "Epoch 2/25\n",
            "\n",
            "Epoch 00002: LearningRateScheduler reducing learning rate to 0.01.\n",
            "4/4 [==============================] - 3s 608ms/step - loss: 1.2744 - output_loss: 0.8395 - auxilliary_output_1_loss: 0.7235 - auxilliary_output_2_loss: 0.7263 - output_accuracy: 0.7196 - auxilliary_output_1_accuracy: 0.6879 - auxilliary_output_2_accuracy: 0.6629 - val_loss: 1.1497 - val_output_loss: 0.7775 - val_auxilliary_output_1_loss: 0.6314 - val_auxilliary_output_2_loss: 0.6093 - val_output_accuracy: 0.2747 - val_auxilliary_output_1_accuracy: 0.7253 - val_auxilliary_output_2_accuracy: 0.7253\n",
            "Epoch 3/25\n",
            "\n",
            "Epoch 00003: LearningRateScheduler reducing learning rate to 0.01.\n",
            "4/4 [==============================] - 3s 621ms/step - loss: 1.4691 - output_loss: 1.0149 - auxilliary_output_1_loss: 0.7888 - auxilliary_output_2_loss: 0.7252 - output_accuracy: 0.5322 - auxilliary_output_1_accuracy: 0.5815 - auxilliary_output_2_accuracy: 0.6251 - val_loss: 1.0159 - val_output_loss: 0.6584 - val_auxilliary_output_1_loss: 0.5894 - val_auxilliary_output_2_loss: 0.6022 - val_output_accuracy: 0.7253 - val_auxilliary_output_1_accuracy: 0.7253 - val_auxilliary_output_2_accuracy: 0.7253\n",
            "Epoch 4/25\n",
            "\n",
            "Epoch 00004: LearningRateScheduler reducing learning rate to 0.01.\n",
            "4/4 [==============================] - 3s 611ms/step - loss: 1.1472 - output_loss: 0.7436 - auxilliary_output_1_loss: 0.6679 - auxilliary_output_2_loss: 0.6774 - output_accuracy: 0.4895 - auxilliary_output_1_accuracy: 0.6424 - auxilliary_output_2_accuracy: 0.6602 - val_loss: 1.0275 - val_output_loss: 0.6686 - val_auxilliary_output_1_loss: 0.5931 - val_auxilliary_output_2_loss: 0.6032 - val_output_accuracy: 0.7253 - val_auxilliary_output_1_accuracy: 0.7253 - val_auxilliary_output_2_accuracy: 0.7253\n",
            "Epoch 5/25\n",
            "\n",
            "Epoch 00005: LearningRateScheduler reducing learning rate to 0.01.\n",
            "4/4 [==============================] - 3s 615ms/step - loss: 1.0669 - output_loss: 0.6779 - auxilliary_output_1_loss: 0.6600 - auxilliary_output_2_loss: 0.6367 - output_accuracy: 0.7177 - auxilliary_output_1_accuracy: 0.6596 - auxilliary_output_2_accuracy: 0.7203 - val_loss: 1.0155 - val_output_loss: 0.6588 - val_auxilliary_output_1_loss: 0.5919 - val_auxilliary_output_2_loss: 0.5970 - val_output_accuracy: 0.7253 - val_auxilliary_output_1_accuracy: 0.7253 - val_auxilliary_output_2_accuracy: 0.7253\n",
            "Epoch 6/25\n",
            "\n",
            "Epoch 00006: LearningRateScheduler reducing learning rate to 0.01.\n",
            "4/4 [==============================] - 3s 617ms/step - loss: 1.0561 - output_loss: 0.6679 - auxilliary_output_1_loss: 0.6577 - auxilliary_output_2_loss: 0.6363 - output_accuracy: 0.6181 - auxilliary_output_1_accuracy: 0.6724 - auxilliary_output_2_accuracy: 0.6973 - val_loss: 0.9612 - val_output_loss: 0.5951 - val_auxilliary_output_1_loss: 0.6077 - val_auxilliary_output_2_loss: 0.6126 - val_output_accuracy: 0.7253 - val_auxilliary_output_1_accuracy: 0.7253 - val_auxilliary_output_2_accuracy: 0.7253\n",
            "Epoch 7/25\n",
            "\n",
            "Epoch 00007: LearningRateScheduler reducing learning rate to 0.01.\n",
            "4/4 [==============================] - 3s 607ms/step - loss: 0.9862 - output_loss: 0.5960 - auxilliary_output_1_loss: 0.6529 - auxilliary_output_2_loss: 0.6479 - output_accuracy: 0.7248 - auxilliary_output_1_accuracy: 0.6530 - auxilliary_output_2_accuracy: 0.6600 - val_loss: 0.9809 - val_output_loss: 0.6243 - val_auxilliary_output_1_loss: 0.5927 - val_auxilliary_output_2_loss: 0.5959 - val_output_accuracy: 0.7253 - val_auxilliary_output_1_accuracy: 0.7253 - val_auxilliary_output_2_accuracy: 0.7253\n",
            "Epoch 8/25\n",
            "\n",
            "Epoch 00008: LearningRateScheduler reducing learning rate to 0.0096.\n",
            "4/4 [==============================] - 3s 618ms/step - loss: 1.0262 - output_loss: 0.6428 - auxilliary_output_1_loss: 0.6422 - auxilliary_output_2_loss: 0.6357 - output_accuracy: 0.6715 - auxilliary_output_1_accuracy: 0.6819 - auxilliary_output_2_accuracy: 0.6911 - val_loss: 0.9484 - val_output_loss: 0.5958 - val_auxilliary_output_1_loss: 0.5863 - val_auxilliary_output_2_loss: 0.5890 - val_output_accuracy: 0.7253 - val_auxilliary_output_1_accuracy: 0.7253 - val_auxilliary_output_2_accuracy: 0.7253\n",
            "Epoch 9/25\n",
            "\n",
            "Epoch 00009: LearningRateScheduler reducing learning rate to 0.0096.\n",
            "4/4 [==============================] - 3s 616ms/step - loss: 0.9955 - output_loss: 0.6229 - auxilliary_output_1_loss: 0.6198 - auxilliary_output_2_loss: 0.6223 - output_accuracy: 0.7160 - auxilliary_output_1_accuracy: 0.7081 - auxilliary_output_2_accuracy: 0.7110 - val_loss: 0.9446 - val_output_loss: 0.5907 - val_auxilliary_output_1_loss: 0.5876 - val_auxilliary_output_2_loss: 0.5923 - val_output_accuracy: 0.7253 - val_auxilliary_output_1_accuracy: 0.7253 - val_auxilliary_output_2_accuracy: 0.7253\n",
            "Epoch 10/25\n",
            "\n",
            "Epoch 00010: LearningRateScheduler reducing learning rate to 0.0096.\n",
            "4/4 [==============================] - 3s 616ms/step - loss: 1.0204 - output_loss: 0.6370 - auxilliary_output_1_loss: 0.6426 - auxilliary_output_2_loss: 0.6356 - output_accuracy: 0.6899 - auxilliary_output_1_accuracy: 0.6602 - auxilliary_output_2_accuracy: 0.6596 - val_loss: 0.9513 - val_output_loss: 0.5993 - val_auxilliary_output_1_loss: 0.5816 - val_auxilliary_output_2_loss: 0.5918 - val_output_accuracy: 0.7253 - val_auxilliary_output_1_accuracy: 0.7253 - val_auxilliary_output_2_accuracy: 0.7253\n",
            "Epoch 11/25\n",
            "\n",
            "Epoch 00011: LearningRateScheduler reducing learning rate to 0.0096.\n",
            "4/4 [==============================] - 3s 624ms/step - loss: 0.9870 - output_loss: 0.6157 - auxilliary_output_1_loss: 0.6045 - auxilliary_output_2_loss: 0.6330 - output_accuracy: 0.7073 - auxilliary_output_1_accuracy: 0.7146 - auxilliary_output_2_accuracy: 0.7019 - val_loss: 0.9780 - val_output_loss: 0.6236 - val_auxilliary_output_1_loss: 0.5845 - val_auxilliary_output_2_loss: 0.5969 - val_output_accuracy: 0.7253 - val_auxilliary_output_1_accuracy: 0.7253 - val_auxilliary_output_2_accuracy: 0.7253\n",
            "Epoch 12/25\n",
            "\n",
            "Epoch 00012: LearningRateScheduler reducing learning rate to 0.0096.\n",
            "4/4 [==============================] - 3s 618ms/step - loss: 1.0288 - output_loss: 0.6488 - auxilliary_output_1_loss: 0.6380 - auxilliary_output_2_loss: 0.6285 - output_accuracy: 0.7076 - auxilliary_output_1_accuracy: 0.7080 - auxilliary_output_2_accuracy: 0.7076 - val_loss: 0.9448 - val_output_loss: 0.5963 - val_auxilliary_output_1_loss: 0.5739 - val_auxilliary_output_2_loss: 0.5879 - val_output_accuracy: 0.7253 - val_auxilliary_output_1_accuracy: 0.7253 - val_auxilliary_output_2_accuracy: 0.7253\n",
            "Epoch 13/25\n",
            "\n",
            "Epoch 00013: LearningRateScheduler reducing learning rate to 0.0096.\n",
            "4/4 [==============================] - 3s 619ms/step - loss: 0.9880 - output_loss: 0.6162 - auxilliary_output_1_loss: 0.6004 - auxilliary_output_2_loss: 0.6386 - output_accuracy: 0.7047 - auxilliary_output_1_accuracy: 0.7084 - auxilliary_output_2_accuracy: 0.7004 - val_loss: 0.9389 - val_output_loss: 0.5917 - val_auxilliary_output_1_loss: 0.5681 - val_auxilliary_output_2_loss: 0.5894 - val_output_accuracy: 0.7253 - val_auxilliary_output_1_accuracy: 0.7253 - val_auxilliary_output_2_accuracy: 0.7253\n",
            "Epoch 14/25\n",
            "\n",
            "Epoch 00014: LearningRateScheduler reducing learning rate to 0.0096.\n",
            "4/4 [==============================] - 3s 621ms/step - loss: 0.9803 - output_loss: 0.6100 - auxilliary_output_1_loss: 0.6019 - auxilliary_output_2_loss: 0.6323 - output_accuracy: 0.7056 - auxilliary_output_1_accuracy: 0.7010 - auxilliary_output_2_accuracy: 0.7039 - val_loss: 0.9345 - val_output_loss: 0.5904 - val_auxilliary_output_1_loss: 0.5618 - val_auxilliary_output_2_loss: 0.5852 - val_output_accuracy: 0.7253 - val_auxilliary_output_1_accuracy: 0.7253 - val_auxilliary_output_2_accuracy: 0.7253\n",
            "Epoch 15/25\n",
            "\n",
            "Epoch 00015: LearningRateScheduler reducing learning rate to 0.0096.\n",
            "4/4 [==============================] - 3s 617ms/step - loss: 0.9578 - output_loss: 0.6013 - auxilliary_output_1_loss: 0.5925 - auxilliary_output_2_loss: 0.5958 - output_accuracy: 0.7177 - auxilliary_output_1_accuracy: 0.7161 - auxilliary_output_2_accuracy: 0.7185 - val_loss: 0.9376 - val_output_loss: 0.5935 - val_auxilliary_output_1_loss: 0.5628 - val_auxilliary_output_2_loss: 0.5841 - val_output_accuracy: 0.7253 - val_auxilliary_output_1_accuracy: 0.7253 - val_auxilliary_output_2_accuracy: 0.7253\n",
            "Epoch 16/25\n",
            "\n",
            "Epoch 00016: LearningRateScheduler reducing learning rate to 0.009216.\n",
            "4/4 [==============================] - 3s 624ms/step - loss: 0.9837 - output_loss: 0.6189 - auxilliary_output_1_loss: 0.5862 - auxilliary_output_2_loss: 0.6298 - output_accuracy: 0.7046 - auxilliary_output_1_accuracy: 0.7130 - auxilliary_output_2_accuracy: 0.6980 - val_loss: 0.9318 - val_output_loss: 0.5894 - val_auxilliary_output_1_loss: 0.5554 - val_auxilliary_output_2_loss: 0.5862 - val_output_accuracy: 0.7253 - val_auxilliary_output_1_accuracy: 0.7253 - val_auxilliary_output_2_accuracy: 0.7253\n",
            "Epoch 17/25\n",
            "\n",
            "Epoch 00017: LearningRateScheduler reducing learning rate to 0.009216.\n",
            "4/4 [==============================] - 3s 631ms/step - loss: 0.9623 - output_loss: 0.6086 - auxilliary_output_1_loss: 0.5691 - auxilliary_output_2_loss: 0.6098 - output_accuracy: 0.7110 - auxilliary_output_1_accuracy: 0.7133 - auxilliary_output_2_accuracy: 0.7087 - val_loss: 0.9360 - val_output_loss: 0.5875 - val_auxilliary_output_1_loss: 0.5832 - val_auxilliary_output_2_loss: 0.5785 - val_output_accuracy: 0.7253 - val_auxilliary_output_1_accuracy: 0.7473 - val_auxilliary_output_2_accuracy: 0.7253\n",
            "Epoch 18/25\n",
            "\n",
            "Epoch 00018: LearningRateScheduler reducing learning rate to 0.009216.\n",
            "4/4 [==============================] - 3s 621ms/step - loss: 0.9830 - output_loss: 0.6186 - auxilliary_output_1_loss: 0.6011 - auxilliary_output_2_loss: 0.6134 - output_accuracy: 0.7050 - auxilliary_output_1_accuracy: 0.7248 - auxilliary_output_2_accuracy: 0.7092 - val_loss: 0.9455 - val_output_loss: 0.6119 - val_auxilliary_output_1_loss: 0.5364 - val_auxilliary_output_2_loss: 0.5758 - val_output_accuracy: 0.7253 - val_auxilliary_output_1_accuracy: 0.7253 - val_auxilliary_output_2_accuracy: 0.7253\n",
            "Epoch 19/25\n",
            "\n",
            "Epoch 00019: LearningRateScheduler reducing learning rate to 0.009216.\n",
            "4/4 [==============================] - 3s 624ms/step - loss: 0.9652 - output_loss: 0.6179 - auxilliary_output_1_loss: 0.5607 - auxilliary_output_2_loss: 0.5969 - output_accuracy: 0.7050 - auxilliary_output_1_accuracy: 0.7276 - auxilliary_output_2_accuracy: 0.7054 - val_loss: 0.9177 - val_output_loss: 0.5847 - val_auxilliary_output_1_loss: 0.5350 - val_auxilliary_output_2_loss: 0.5751 - val_output_accuracy: 0.7253 - val_auxilliary_output_1_accuracy: 0.7802 - val_auxilliary_output_2_accuracy: 0.7253\n",
            "Epoch 20/25\n",
            "\n",
            "Epoch 00020: LearningRateScheduler reducing learning rate to 0.009216.\n",
            "4/4 [==============================] - 3s 635ms/step - loss: 0.9449 - output_loss: 0.6071 - auxilliary_output_1_loss: 0.5345 - auxilliary_output_2_loss: 0.5914 - output_accuracy: 0.7149 - auxilliary_output_1_accuracy: 0.7523 - auxilliary_output_2_accuracy: 0.7088 - val_loss: 0.8944 - val_output_loss: 0.5821 - val_auxilliary_output_1_loss: 0.4834 - val_auxilliary_output_2_loss: 0.5577 - val_output_accuracy: 0.7253 - val_auxilliary_output_1_accuracy: 0.7363 - val_auxilliary_output_2_accuracy: 0.7253\n",
            "Epoch 21/25\n",
            "\n",
            "Epoch 00021: LearningRateScheduler reducing learning rate to 0.009216.\n",
            "4/4 [==============================] - 3s 636ms/step - loss: 0.9287 - output_loss: 0.6015 - auxilliary_output_1_loss: 0.5075 - auxilliary_output_2_loss: 0.5830 - output_accuracy: 0.7118 - auxilliary_output_1_accuracy: 0.7613 - auxilliary_output_2_accuracy: 0.7107 - val_loss: 0.8772 - val_output_loss: 0.5771 - val_auxilliary_output_1_loss: 0.4576 - val_auxilliary_output_2_loss: 0.5426 - val_output_accuracy: 0.7253 - val_auxilliary_output_1_accuracy: 0.7473 - val_auxilliary_output_2_accuracy: 0.7253\n",
            "Epoch 22/25\n",
            "\n",
            "Epoch 00022: LearningRateScheduler reducing learning rate to 0.009216.\n",
            "4/4 [==============================] - 3s 640ms/step - loss: 0.8770 - output_loss: 0.5822 - auxilliary_output_1_loss: 0.4432 - auxilliary_output_2_loss: 0.5394 - output_accuracy: 0.7198 - auxilliary_output_1_accuracy: 0.8064 - auxilliary_output_2_accuracy: 0.7225 - val_loss: 0.8368 - val_output_loss: 0.5644 - val_auxilliary_output_1_loss: 0.3979 - val_auxilliary_output_2_loss: 0.5102 - val_output_accuracy: 0.7253 - val_auxilliary_output_1_accuracy: 0.7802 - val_auxilliary_output_2_accuracy: 0.7253\n",
            "Epoch 23/25\n",
            "\n",
            "Epoch 00023: LearningRateScheduler reducing learning rate to 0.009216.\n",
            "4/4 [==============================] - 3s 633ms/step - loss: 0.8413 - output_loss: 0.5721 - auxilliary_output_1_loss: 0.3876 - auxilliary_output_2_loss: 0.5096 - output_accuracy: 0.7101 - auxilliary_output_1_accuracy: 0.8494 - auxilliary_output_2_accuracy: 0.7437 - val_loss: 1.2554 - val_output_loss: 0.6201 - val_auxilliary_output_1_loss: 1.3835 - val_auxilliary_output_2_loss: 0.7341 - val_output_accuracy: 0.7253 - val_auxilliary_output_1_accuracy: 0.2747 - val_auxilliary_output_2_accuracy: 0.3516\n",
            "Epoch 24/25\n",
            "\n",
            "Epoch 00024: LearningRateScheduler reducing learning rate to 0.008847359999999999.\n",
            "4/4 [==============================] - 3s 635ms/step - loss: 1.0707 - output_loss: 0.5936 - auxilliary_output_1_loss: 0.9379 - auxilliary_output_2_loss: 0.6526 - output_accuracy: 0.7213 - auxilliary_output_1_accuracy: 0.5147 - auxilliary_output_2_accuracy: 0.6115 - val_loss: 0.8725 - val_output_loss: 0.5570 - val_auxilliary_output_1_loss: 0.4956 - val_auxilliary_output_2_loss: 0.5558 - val_output_accuracy: 0.7253 - val_auxilliary_output_1_accuracy: 0.8571 - val_auxilliary_output_2_accuracy: 0.7692\n",
            "Epoch 25/25\n",
            "\n",
            "Epoch 00025: LearningRateScheduler reducing learning rate to 0.008847359999999999.\n",
            "4/4 [==============================] - 3s 630ms/step - loss: 0.8975 - output_loss: 0.5687 - auxilliary_output_1_loss: 0.5279 - auxilliary_output_2_loss: 0.5680 - output_accuracy: 0.7185 - auxilliary_output_1_accuracy: 0.7557 - auxilliary_output_2_accuracy: 0.7473 - val_loss: 0.9211 - val_output_loss: 0.5740 - val_auxilliary_output_1_loss: 0.5890 - val_auxilliary_output_2_loss: 0.5681 - val_output_accuracy: 0.7253 - val_auxilliary_output_1_accuracy: 0.7912 - val_auxilliary_output_2_accuracy: 0.8242\n"
          ],
          "name": "stdout"
        }
      ]
    },
    {
      "cell_type": "code",
      "metadata": {
        "colab": {
          "base_uri": "https://localhost:8080/",
          "height": 576
        },
        "id": "B_OKiZtoW1jH",
        "outputId": "707b176c-cc46-4423-a1a8-a9922c7e18fd"
      },
      "source": [
        "#plot the training and validation accuracy and loss at each epoch\n",
        "import matplotlib.pyplot as plt\n",
        "loss = history.history['loss']\n",
        "val_loss = history.history['val_loss']\n",
        "epochs = range(1, len(loss) + 1)\n",
        "plt.plot(epochs, loss, 'y', label='Training loss')\n",
        "plt.plot(epochs, val_loss, 'r', label='Validation loss')\n",
        "plt.title('Training and validation loss')\n",
        "plt.xlabel('Epochs')\n",
        "plt.ylabel('Loss')\n",
        "plt.legend()\n",
        "plt.show()\n",
        "\n",
        "acc = history.history['output_accuracy']\n",
        "val_acc = history.history['val_output_accuracy']\n",
        "loss = history.history['loss']\n",
        "val_loss = history.history['val_loss']\n",
        "  \n",
        "# epochs = range(len(acc))\n",
        "  \n",
        "# plt.plot(epochs, acc, 'r', label='Training accuracy')\n",
        "# plt.plot(epochs, val_acc, 'b', label='Validation accuracy')\n",
        "# plt.title('Training and validation accuracy')\n",
        "  \n",
        "plt.figure()\n",
        "  \n",
        "plt.plot(epochs, loss, 'r', label='Training Loss')\n",
        "plt.plot(epochs, val_loss, 'b', label='Validation Loss')\n",
        "plt.title('Training and validation loss')\n",
        "plt.legend()"
      ],
      "id": "B_OKiZtoW1jH",
      "execution_count": null,
      "outputs": [
        {
          "output_type": "display_data",
          "data": {
            "image/png": "[encoded data removed]",
            "text/plain": [
              "<Figure size 432x288 with 1 Axes>"
            ]
          },
          "metadata": {
            "tags": [],
            "needs_background": "light"
          }
        },
        {
          "output_type": "execute_result",
          "data": {
            "text/plain": [
              "<matplotlib.legend.Legend at 0x7f29b268c610>"
            ]
          },
          "metadata": {
            "tags": []
          },
          "execution_count": 26
        },
        {
          "output_type": "display_data",
          "data": {
            "image/png": "[encoded data removed]",
            "text/plain": [
              "<Figure size 432x288 with 1 Axes>"
            ]
          },
          "metadata": {
            "tags": [],
            "needs_background": "light"
          }
        }
      ]
    },
    {
      "cell_type": "code",
      "metadata": {
        "id": "22264b5e",
        "colab": {
          "base_uri": "https://localhost:8080/"
        },
        "outputId": "fee8c182-0dc4-4986-8f32-0d30929d1ebb"
      },
      "source": [
        "e=model.evaluate(X_test,y_test)"
      ],
      "id": "22264b5e",
      "execution_count": null,
      "outputs": [
        {
          "output_type": "stream",
          "text": [
            "3/3 [==============================] - 5s 642ms/step - loss: 0.9211 - output_loss: 0.5740 - auxilliary_output_1_loss: 0.5890 - auxilliary_output_2_loss: 0.5681 - output_accuracy: 0.7253 - auxilliary_output_1_accuracy: 0.7912 - auxilliary_output_2_accuracy: 0.8242\n"
          ],
          "name": "stdout"
        }
      ]
    },
    {
      "cell_type": "code",
      "metadata": {
        "id": "IRKJvT0-XcQj"
      },
      "source": [
        ""
      ],
      "id": "IRKJvT0-XcQj",
      "execution_count": null,
      "outputs": []
    },
    {
      "cell_type": "code",
      "metadata": {
        "id": "A6WqRDisjrYt"
      },
      "source": [
        "y_pred=model.predict(X_test)"
      ],
      "id": "A6WqRDisjrYt",
      "execution_count": null,
      "outputs": []
    },
    {
      "cell_type": "code",
      "metadata": {
        "colab": {
          "base_uri": "https://localhost:8080/"
        },
        "id": "TBonq7vBOmuK",
        "outputId": "d8c73585-35d8-4bb1-89e6-5ce02f44114e"
      },
      "source": [
        "len(y_pred[0])"
      ],
      "id": "TBonq7vBOmuK",
      "execution_count": null,
      "outputs": [
        {
          "output_type": "execute_result",
          "data": {
            "text/plain": [
              "91"
            ]
          },
          "metadata": {
            "tags": []
          },
          "execution_count": 77
        }
      ]
    },
    {
      "cell_type": "code",
      "metadata": {
        "id": "s9fHPXnQjggF"
      },
      "source": [
        "Y_pred=[]\n",
        "for i in y_pred[0]:\n",
        "    if (i[0]>i[1]).all():\n",
        "        Y_pred.append(0)\n",
        "    else:\n",
        "        Y_pred.append(1)"
      ],
      "id": "s9fHPXnQjggF",
      "execution_count": null,
      "outputs": []
    },
    {
      "cell_type": "code",
      "metadata": {
        "id": "tjuxBSYgjh2S"
      },
      "source": [
        "Y_test=[]\n",
        "for i in y_test:\n",
        "    if (i[0]>i[1]).all():\n",
        "        Y_test.append(0)\n",
        "    else:\n",
        "        Y_test.append(1)"
      ],
      "id": "tjuxBSYgjh2S",
      "execution_count": null,
      "outputs": []
    },
    {
      "cell_type": "code",
      "metadata": {
        "id": "WByI1C1c5Ceo"
      },
      "source": [
        "Y_pred"
      ],
      "id": "WByI1C1c5Ceo",
      "execution_count": null,
      "outputs": []
    },
    {
      "cell_type": "code",
      "metadata": {
        "id": "CUDL5lje5F2m"
      },
      "source": [
        "Y_test"
      ],
      "id": "CUDL5lje5F2m",
      "execution_count": null,
      "outputs": []
    },
    {
      "cell_type": "code",
      "metadata": {
        "colab": {
          "base_uri": "https://localhost:8080/"
        },
        "id": "q2oIIFkjjlkI",
        "outputId": "b35ba991-fd83-49ec-f4af-6b0adc99fc7e"
      },
      "source": [
        "from sklearn.metrics import classification_report, confusion_matrix\n",
        "print('Confusion Matrix')\n",
        "print(confusion_matrix(Y_test, Y_pred))\n",
        "print('Classification Report')\n",
        "print(classification_report(Y_test, Y_pred, target_names=['Class-0','Class-1'], zero_division='warn'))"
      ],
      "id": "q2oIIFkjjlkI",
      "execution_count": null,
      "outputs": [
        {
          "output_type": "stream",
          "text": [
            "Confusion Matrix\n",
            "[[66  0]\n",
            " [25  0]]\n",
            "Classification Report\n",
            "              precision    recall  f1-score   support\n",
            "\n",
            "     Class-0       0.73      1.00      0.84        66\n",
            "     Class-1       0.00      0.00      0.00        25\n",
            "\n",
            "    accuracy                           0.73        91\n",
            "   macro avg       0.36      0.50      0.42        91\n",
            "weighted avg       0.53      0.73      0.61        91\n",
            "\n"
          ],
          "name": "stdout"
        },
        {
          "output_type": "stream",
          "text": [
            "/usr/local/lib/python3.7/dist-packages/sklearn/metrics/_classification.py:1272: UndefinedMetricWarning: Precision and F-score are ill-defined and being set to 0.0 in labels with no predicted samples. Use `zero_division` parameter to control this behavior.\n",
            "  _warn_prf(average, modifier, msg_start, len(result))\n",
            "/usr/local/lib/python3.7/dist-packages/sklearn/metrics/_classification.py:1272: UndefinedMetricWarning: Precision and F-score are ill-defined and being set to 0.0 in labels with no predicted samples. Use `zero_division` parameter to control this behavior.\n",
            "  _warn_prf(average, modifier, msg_start, len(result))\n",
            "/usr/local/lib/python3.7/dist-packages/sklearn/metrics/_classification.py:1272: UndefinedMetricWarning: Precision and F-score are ill-defined and being set to 0.0 in labels with no predicted samples. Use `zero_division` parameter to control this behavior.\n",
            "  _warn_prf(average, modifier, msg_start, len(result))\n"
          ],
          "name": "stderr"
        }
      ]
    },
    {
      "cell_type": "code",
      "metadata": {
        "id": "IGNrfCoI-yav"
      },
      "source": [
        "classes=[0,1]\n",
        "con_mat_df = pd.DataFrame(confusion_matrix(Y_test, Y_pred),index = classes, columns = classes)"
      ],
      "id": "IGNrfCoI-yav",
      "execution_count": null,
      "outputs": []
    },
    {
      "cell_type": "code",
      "metadata": {
        "colab": {
          "base_uri": "https://localhost:8080/",
          "height": 455
        },
        "id": "DuuJ0cSWkGWm",
        "outputId": "72262e7e-fa3b-4ca4-8f5d-512b76e6c573"
      },
      "source": [
        "con_mat_df\n",
        "import seaborn as sns\n",
        "figure = plt.figure(figsize=(6, 6))\n",
        "sns.heatmap(con_mat_df, annot=True,cmap=plt.cm.cool,fmt='d')\n",
        "plt.tight_layout()\n",
        "plt.ylabel('Actual')\n",
        "plt.xlabel('Predicted')\n",
        "plt.show()"
      ],
      "id": "DuuJ0cSWkGWm",
      "execution_count": null,
      "outputs": [
        {
          "output_type": "display_data",
          "data": {
            "image/png": "[encoded data removed]",
            "text/plain": [
              "<Figure size 432x432 with 2 Axes>"
            ]
          },
          "metadata": {
            "tags": [],
            "needs_background": "light"
          }
        }
      ]
    }
  ]
}