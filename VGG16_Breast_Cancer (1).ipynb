{
  "nbformat": 4,
  "nbformat_minor": 5,
  "metadata": {
    "colab": {
      "name": "VGG16_Breast Cancer.ipynb",
      "provenance": [],
      "collapsed_sections": []
    },
    "kernelspec": {
      "display_name": "Python 3",
      "language": "python",
      "name": "python3"
    }
  },
  "cells": [
    {
      "cell_type": "code",
      "metadata": {
        "id": "d80ca651"
      },
      "source": [
        "import pandas as pd\n",
        "import numpy as np\n",
        "from glob import glob\n",
        "import random"
      ],
      "id": "d80ca651",
      "execution_count": null,
      "outputs": []
    },
    {
      "cell_type": "code",
      "metadata": {
        "colab": {
          "base_uri": "https://localhost:8080/"
        },
        "id": "lW1TnlFgl7mp",
        "outputId": "02cd6f6a-8e10-40ca-a47c-fc9bb42eedc7"
      },
      "source": [
        "from google.colab import drive\n",
        "drive.mount('/content/drive')"
      ],
      "id": "lW1TnlFgl7mp",
      "execution_count": null,
      "outputs": [
        {
          "output_type": "stream",
          "text": [
            "Mounted at /content/drive\n"
          ],
          "name": "stdout"
        }
      ]
    },
    {
      "cell_type": "code",
      "metadata": {
        "colab": {
          "base_uri": "https://localhost:8080/"
        },
        "id": "4487214c",
        "outputId": "2b94253a-c1be-4cb7-dc8f-2eea7f83f603"
      },
      "source": [
        "mypath=[]\n",
        "for name in glob(\"drive/My Drive/dataset/9043/*\",recursive=True):\n",
        "    mypath.append(name)\n",
        "    print(name)    "
      ],
      "id": "4487214c",
      "execution_count": null,
      "outputs": [
        {
          "output_type": "stream",
          "text": [
            "drive/My Drive/dataset/9043/0\n",
            "drive/My Drive/dataset/9043/1\n"
          ],
          "name": "stdout"
        }
      ]
    },
    {
      "cell_type": "code",
      "metadata": {
        "colab": {
          "base_uri": "https://localhost:8080/"
        },
        "id": "9f93c228",
        "outputId": "94cebca0-79f4-4a95-a37c-96e73986401d"
      },
      "source": [
        "len(mypath)"
      ],
      "id": "9f93c228",
      "execution_count": null,
      "outputs": [
        {
          "output_type": "execute_result",
          "data": {
            "text/plain": [
              "2"
            ]
          },
          "metadata": {
            "tags": []
          },
          "execution_count": 4
        }
      ]
    },
    {
      "cell_type": "code",
      "metadata": {
        "id": "cf009f12"
      },
      "source": [
        "import os\n",
        "mypath=[]\n",
        "for dirname, _, filenames in os.walk(\"./drive/ My Drive/dataset/9043\"):\n",
        "    for filename in filenames:\n",
        "        mypath.append(os.path.join(dirname, filename))\n",
        "class0=[]\n",
        "class1=[]\n",
        "for i in mypath:\n",
        "    if '1.png' in i:\n",
        "        class1.append(i)\n",
        "    else:\n",
        "        class0.append(i)         "
      ],
      "id": "cf009f12",
      "execution_count": null,
      "outputs": []
    },
    {
      "cell_type": "code",
      "metadata": {
        "colab": {
          "base_uri": "https://localhost:8080/"
        },
        "id": "792f8196",
        "outputId": "3b4791ce-02ce-49d5-bf19-e1e84ebe904c"
      },
      "source": [
        "mypath[0:5]"
      ],
      "id": "792f8196",
      "execution_count": null,
      "outputs": [
        {
          "output_type": "execute_result",
          "data": {
            "text/plain": [
              "['./drive/ My Drive/dataset/9043/0/9041_idx5_x2251_y1251_class1.png',\n",
              " './drive/ My Drive/dataset/9043/0/9041_idx5_x2251_y1301_class1.png',\n",
              " './drive/ My Drive/dataset/9043/0/9041_idx5_x2251_y1351_class1.png',\n",
              " './drive/ My Drive/dataset/9043/0/9041_idx5_x2251_y1401_class1.png',\n",
              " './drive/ My Drive/dataset/9043/0/9041_idx5_x2251_y1451_class1.png']"
            ]
          },
          "metadata": {
            "tags": []
          },
          "execution_count": 6
        }
      ]
    },
    {
      "cell_type": "code",
      "metadata": {
        "colab": {
          "base_uri": "https://localhost:8080/"
        },
        "id": "f420deb0",
        "outputId": "010e6b3e-2b9b-4ae3-800d-ee888af16563"
      },
      "source": [
        "class0[0:5]\n"
      ],
      "id": "f420deb0",
      "execution_count": null,
      "outputs": [
        {
          "output_type": "execute_result",
          "data": {
            "text/plain": [
              "['./drive/ My Drive/dataset/9043/0/9043_idx5_x101_y1001_class0.png',\n",
              " './drive/ My Drive/dataset/9043/0/9043_idx5_x101_y1051_class0.png',\n",
              " './drive/ My Drive/dataset/9043/0/9043_idx5_x101_y1101_class0.png',\n",
              " './drive/ My Drive/dataset/9043/0/9043_idx5_x101_y701_class0.png',\n",
              " './drive/ My Drive/dataset/9043/0/9043_idx5_x101_y751_class0.png']"
            ]
          },
          "metadata": {
            "tags": []
          },
          "execution_count": 7
        }
      ]
    },
    {
      "cell_type": "code",
      "metadata": {
        "colab": {
          "base_uri": "https://localhost:8080/"
        },
        "id": "a6318b3f",
        "outputId": "aa768929-53af-446f-f711-be77420ebb47"
      },
      "source": [
        "print(len(class0),len(class1))"
      ],
      "id": "a6318b3f",
      "execution_count": null,
      "outputs": [
        {
          "output_type": "stream",
          "text": [
            "296 605\n"
          ],
          "name": "stdout"
        }
      ]
    },
    {
      "cell_type": "code",
      "metadata": {
        "colab": {
          "base_uri": "https://localhost:8080/"
        },
        "id": "c45c1c98",
        "outputId": "61f49d7f-2593-4b78-d9c6-b5772d674bed"
      },
      "source": [
        "from keras.preprocessing.image import ImageDataGenerator\n",
        "sampled_class0 = random.sample(class0,len(class0))\n",
        "sampled_class1 = random.sample(class1, len(class1))\n",
        "len(sampled_class0)\n",
        "from matplotlib.image import imread\n",
        "import cv2\n",
        "\n",
        "def get_image_arrays(data, label):\n",
        "    img_arrays = []\n",
        "    for i in data:\n",
        "      if i.endswith('.png'):\n",
        "        img = cv2.imread(i ,cv2.IMREAD_COLOR)\n",
        "        img_sized = cv2.resize(img, (224, 224), interpolation=cv2.INTER_LINEAR)\n",
        "        img_sized=img_sized/255\n",
        "        img_arrays.append([img_sized, label])\n",
        "    return img_arrays\n",
        "\n",
        "class0=None;\n",
        "class1=None;\n",
        "import gc\n",
        "class0_array = get_image_arrays(sampled_class0, 0)\n",
        "class1_array = get_image_arrays(sampled_class1, 1)\n",
        "\n",
        "print('done')"
      ],
      "id": "c45c1c98",
      "execution_count": null,
      "outputs": [
        {
          "output_type": "stream",
          "text": [
            "done\n"
          ],
          "name": "stdout"
        }
      ]
    },
    {
      "cell_type": "code",
      "metadata": {
        "colab": {
          "base_uri": "https://localhost:8080/"
        },
        "id": "136b21b8",
        "outputId": "b446a7de-59c7-4898-95af-7576b7774553"
      },
      "source": [
        "combined_data = np.concatenate((class0_array, class1_array))\n",
        "random.seed(41)\n",
        "random.shuffle(combined_data)"
      ],
      "id": "136b21b8",
      "execution_count": null,
      "outputs": [
        {
          "output_type": "stream",
          "text": [
            "<string>:6: VisibleDeprecationWarning: Creating an ndarray from ragged nested sequences (which is a list-or-tuple of lists-or-tuples-or ndarrays with different lengths or shapes) is deprecated. If you meant to do this, you must specify 'dtype=object' when creating the ndarray\n"
          ],
          "name": "stderr"
        }
      ]
    },
    {
      "cell_type": "code",
      "metadata": {
        "colab": {
          "base_uri": "https://localhost:8080/"
        },
        "id": "c692ff9d",
        "outputId": "af388ac4-c9c1-43d8-f221-55bbb99f1f6c"
      },
      "source": [
        "len(combined_data)"
      ],
      "id": "c692ff9d",
      "execution_count": null,
      "outputs": [
        {
          "output_type": "execute_result",
          "data": {
            "text/plain": [
              "901"
            ]
          },
          "metadata": {
            "tags": []
          },
          "execution_count": 11
        }
      ]
    },
    {
      "cell_type": "code",
      "metadata": {
        "id": "6c5061cb"
      },
      "source": [
        "X = []\n",
        "y = []\n",
        "\n",
        "for features,label in combined_data:\n",
        "    X.append(features)\n",
        "    y.append(label)"
      ],
      "id": "6c5061cb",
      "execution_count": null,
      "outputs": []
    },
    {
      "cell_type": "code",
      "metadata": {
        "colab": {
          "base_uri": "https://localhost:8080/"
        },
        "id": "56516554",
        "outputId": "3978c9c2-8539-4d25-87b8-d0ac387d6d9e"
      },
      "source": [
        "print(len(X))\n",
        "print(len(y))\n"
      ],
      "id": "56516554",
      "execution_count": null,
      "outputs": [
        {
          "output_type": "stream",
          "text": [
            "901\n",
            "901\n"
          ],
          "name": "stdout"
        }
      ]
    },
    {
      "cell_type": "code",
      "metadata": {
        "id": "805290bf"
      },
      "source": [
        "X = np.array(X).reshape(-1, 224, 224, 3)"
      ],
      "id": "805290bf",
      "execution_count": null,
      "outputs": []
    },
    {
      "cell_type": "code",
      "metadata": {
        "colab": {
          "base_uri": "https://localhost:8080/"
        },
        "id": "8ccb5c94",
        "outputId": "0f46c21f-44b6-4ecc-ff3a-f3aeba3a9513"
      },
      "source": [
        "from sklearn.model_selection import train_test_split\n",
        "from keras.utils.np_utils import to_categorical\n",
        "\n",
        "X_train, X_test, y_train, y_test = train_test_split(X, y, test_size=0.1, random_state=10)\n",
        "y_train = to_categorical(y_train)\n",
        "y_test = to_categorical(y_test)\n",
        "print(X_train.shape, X_test.shape, y_train.shape, y_test.shape)"
      ],
      "id": "8ccb5c94",
      "execution_count": null,
      "outputs": [
        {
          "output_type": "stream",
          "text": [
            "(810, 224, 224, 3) (91, 224, 224, 3) (810, 2) (91, 2)\n"
          ],
          "name": "stdout"
        }
      ]
    },
    {
      "cell_type": "code",
      "metadata": {
        "id": "_zG0QwWtAwSF"
      },
      "source": [
        ""
      ],
      "id": "_zG0QwWtAwSF",
      "execution_count": null,
      "outputs": []
    },
    {
      "cell_type": "code",
      "metadata": {
        "id": "IKnZT4SfLBIr"
      },
      "source": [
        "X_train=X_train/255\n",
        "X_test=X_test/255"
      ],
      "id": "IKnZT4SfLBIr",
      "execution_count": null,
      "outputs": []
    },
    {
      "cell_type": "code",
      "metadata": {
        "id": "47f0418d"
      },
      "source": [
        "import tensorflow as tf\n",
        "from tensorflow import keras\n",
        "from tensorflow.keras.applications.vgg16 import VGG16\n",
        "from tensorflow.keras.preprocessing import image\n",
        "from tensorflow.keras.applications.vgg16 import preprocess_input\n",
        "from tensorflow.keras.utils import plot_model\n",
        "import numpy as np"
      ],
      "id": "47f0418d",
      "execution_count": null,
      "outputs": []
    },
    {
      "cell_type": "code",
      "metadata": {
        "id": "aa0e0af9"
      },
      "source": [
        "import keras,os\n",
        "from keras.models import Sequential\n",
        "from keras.layers import Dense, Conv2D, MaxPool2D , Flatten\n",
        "from keras.preprocessing.image import ImageDataGenerator"
      ],
      "id": "aa0e0af9",
      "execution_count": null,
      "outputs": []
    },
    {
      "cell_type": "code",
      "metadata": {
        "id": "04a42fda"
      },
      "source": [
        "from keras.models import Sequential\n",
        "def VGG16():\n",
        "  model = Sequential()\n",
        "  model.add(Conv2D(input_shape=(224,224,3),filters=64,kernel_size=(3,3),padding=\"same\", activation=\"relu\"))\n",
        "  model.add(Conv2D(filters=64,kernel_size=(3,3),padding=\"same\", activation=\"relu\"))\n",
        "  model.add(MaxPool2D(pool_size=(2,2),strides=(2,2)))\n",
        "  model.add(Conv2D(filters=128, kernel_size=(3,3), padding=\"same\", activation=\"relu\"))\n",
        "  model.add(Conv2D(filters=128, kernel_size=(3,3), padding=\"same\", activation=\"relu\"))\n",
        "  model.add(MaxPool2D(pool_size=(2,2),strides=(2,2)))\n",
        "  model.add(Conv2D(filters=256, kernel_size=(3,3), padding=\"same\", activation=\"relu\"))\n",
        "  model.add(Conv2D(filters=256, kernel_size=(3,3), padding=\"same\", activation=\"relu\"))\n",
        "  model.add(Conv2D(filters=256, kernel_size=(3,3), padding=\"same\", activation=\"relu\"))\n",
        "  model.add(MaxPool2D(pool_size=(2,2),strides=(2,2)))\n",
        "  model.add(Conv2D(filters=512, kernel_size=(3,3), padding=\"same\", activation=\"relu\"))\n",
        "  model.add(Conv2D(filters=512, kernel_size=(3,3), padding=\"same\", activation=\"relu\"))\n",
        "  model.add(Conv2D(filters=512, kernel_size=(3,3), padding=\"same\", activation=\"relu\"))\n",
        "  model.add(MaxPool2D(pool_size=(2,2),strides=(2,2)))\n",
        "  model.add(Conv2D(filters=512, kernel_size=(3,3), padding=\"same\", activation=\"relu\"))\n",
        "  model.add(Conv2D(filters=512, kernel_size=(3,3), padding=\"same\", activation=\"relu\"))\n",
        "  model.add(Conv2D(filters=512, kernel_size=(3,3), padding=\"same\", activation=\"relu\"))\n",
        "  model.add(MaxPool2D(pool_size=(2,2),strides=(2,2)))\n",
        "  model.add(Flatten())\n",
        "  model.add(Dense(units=4096,activation=\"relu\"))\n",
        "  model.add(Dense(units=4096,activation=\"relu\"))\n",
        "  model.add(Dense(units=2, activation=\"softmax\"))\n",
        "  return model\n",
        "\n"
      ],
      "id": "04a42fda",
      "execution_count": null,
      "outputs": []
    },
    {
      "cell_type": "code",
      "metadata": {
        "colab": {
          "base_uri": "https://localhost:8080/"
        },
        "id": "cW3cwMc6B0BT",
        "outputId": "377df103-6d7d-462f-b50e-60a1c0950b27"
      },
      "source": [
        "model=VGG16()\n",
        "model.summary()\n",
        "from keras.optimizers import Adam\n",
        "opt = Adam(learning_rate=0.001)\n",
        "model.compile(optimizer=opt, loss=keras.losses.categorical_crossentropy, metrics=['accuracy'])"
      ],
      "id": "cW3cwMc6B0BT",
      "execution_count": null,
      "outputs": [
        {
          "output_type": "stream",
          "text": [
            "Model: \"sequential_1\"\n",
            "_________________________________________________________________\n",
            "Layer (type)                 Output Shape              Param #   \n",
            "=================================================================\n",
            "conv2d_13 (Conv2D)           (None, 224, 224, 64)      1792      \n",
            "_________________________________________________________________\n",
            "conv2d_14 (Conv2D)           (None, 224, 224, 64)      36928     \n",
            "_________________________________________________________________\n",
            "max_pooling2d_5 (MaxPooling2 (None, 112, 112, 64)      0         \n",
            "_________________________________________________________________\n",
            "conv2d_15 (Conv2D)           (None, 112, 112, 128)     73856     \n",
            "_________________________________________________________________\n",
            "conv2d_16 (Conv2D)           (None, 112, 112, 128)     147584    \n",
            "_________________________________________________________________\n",
            "max_pooling2d_6 (MaxPooling2 (None, 56, 56, 128)       0         \n",
            "_________________________________________________________________\n",
            "conv2d_17 (Conv2D)           (None, 56, 56, 256)       295168    \n",
            "_________________________________________________________________\n",
            "conv2d_18 (Conv2D)           (None, 56, 56, 256)       590080    \n",
            "_________________________________________________________________\n",
            "conv2d_19 (Conv2D)           (None, 56, 56, 256)       590080    \n",
            "_________________________________________________________________\n",
            "max_pooling2d_7 (MaxPooling2 (None, 28, 28, 256)       0         \n",
            "_________________________________________________________________\n",
            "conv2d_20 (Conv2D)           (None, 28, 28, 512)       1180160   \n",
            "_________________________________________________________________\n",
            "conv2d_21 (Conv2D)           (None, 28, 28, 512)       2359808   \n",
            "_________________________________________________________________\n",
            "conv2d_22 (Conv2D)           (None, 28, 28, 512)       2359808   \n",
            "_________________________________________________________________\n",
            "max_pooling2d_8 (MaxPooling2 (None, 14, 14, 512)       0         \n",
            "_________________________________________________________________\n",
            "conv2d_23 (Conv2D)           (None, 14, 14, 512)       2359808   \n",
            "_________________________________________________________________\n",
            "conv2d_24 (Conv2D)           (None, 14, 14, 512)       2359808   \n",
            "_________________________________________________________________\n",
            "conv2d_25 (Conv2D)           (None, 14, 14, 512)       2359808   \n",
            "_________________________________________________________________\n",
            "max_pooling2d_9 (MaxPooling2 (None, 7, 7, 512)         0         \n",
            "_________________________________________________________________\n",
            "flatten_1 (Flatten)          (None, 25088)             0         \n",
            "_________________________________________________________________\n",
            "dense_3 (Dense)              (None, 4096)              102764544 \n",
            "_________________________________________________________________\n",
            "dense_4 (Dense)              (None, 4096)              16781312  \n",
            "_________________________________________________________________\n",
            "dense_5 (Dense)              (None, 2)                 8194      \n",
            "=================================================================\n",
            "Total params: 134,268,738\n",
            "Trainable params: 134,268,738\n",
            "Non-trainable params: 0\n",
            "_________________________________________________________________\n"
          ],
          "name": "stdout"
        }
      ]
    },
    {
      "cell_type": "code",
      "metadata": {
        "id": "5e9c1bf8"
      },
      "source": [
        "# #Fit with no early stopping or other callbacks\n",
        "# history = model.fit(X_train, y_train, verbose=1, epochs=100, batch_size=64,\n",
        "#                     validation_data=(X_test, y_test))"
      ],
      "id": "5e9c1bf8",
      "execution_count": null,
      "outputs": []
    },
    {
      "cell_type": "code",
      "metadata": {
        "colab": {
          "base_uri": "https://localhost:8080/"
        },
        "id": "O6qGOu1yQ629",
        "outputId": "4a04df12-53ab-4990-d2e3-fb3b97f6effa"
      },
      "source": [
        "#Fit with no early stopping or other callbacks\n",
        "history = model.fit(X_train, y_train, verbose=1, epochs=10, batch_size=64, validation_data=(X_test, y_test))"
      ],
      "id": "O6qGOu1yQ629",
      "execution_count": null,
      "outputs": [
        {
          "output_type": "stream",
          "text": [
            "Epoch 1/10\n",
            "13/13 [==============================] - 1436s 109s/step - loss: 0.8212 - accuracy: 0.6663 - val_loss: 0.6285 - val_accuracy: 0.7253\n",
            "Epoch 2/10\n",
            "13/13 [==============================] - 1416s 109s/step - loss: 0.6214 - accuracy: 0.7114 - val_loss: 0.5951 - val_accuracy: 0.7253\n",
            "Epoch 3/10\n",
            "13/13 [==============================] - 1414s 109s/step - loss: 0.5990 - accuracy: 0.7205 - val_loss: 0.5885 - val_accuracy: 0.7253\n",
            "Epoch 4/10\n",
            "13/13 [==============================] - 1406s 108s/step - loss: 0.6016 - accuracy: 0.7113 - val_loss: 0.5886 - val_accuracy: 0.7253\n",
            "Epoch 5/10\n",
            "13/13 [==============================] - 1409s 108s/step - loss: 0.6109 - accuracy: 0.7007 - val_loss: 0.5881 - val_accuracy: 0.7253\n",
            "Epoch 6/10\n",
            "13/13 [==============================] - 1417s 109s/step - loss: 0.6195 - accuracy: 0.6929 - val_loss: 0.5886 - val_accuracy: 0.7253\n",
            "Epoch 7/10\n",
            "13/13 [==============================] - 1427s 110s/step - loss: 0.6014 - accuracy: 0.7129 - val_loss: 0.5891 - val_accuracy: 0.7253\n",
            "Epoch 8/10\n",
            "13/13 [==============================] - 1422s 109s/step - loss: 0.5961 - accuracy: 0.7176 - val_loss: 0.5886 - val_accuracy: 0.7253\n",
            "Epoch 9/10\n",
            "13/13 [==============================] - 1422s 109s/step - loss: 0.5957 - accuracy: 0.7200 - val_loss: 0.5909 - val_accuracy: 0.7253\n",
            "Epoch 10/10\n",
            "13/13 [==============================] - 1422s 109s/step - loss: 0.6014 - accuracy: 0.7130 - val_loss: 0.5883 - val_accuracy: 0.7253\n"
          ],
          "name": "stdout"
        }
      ]
    },
    {
      "cell_type": "code",
      "metadata": {
        "colab": {
          "base_uri": "https://localhost:8080/",
          "height": 573
        },
        "id": "B_OKiZtoW1jH",
        "outputId": "4e5e71d8-4ecb-44fe-f3c2-03adfb4e6c66"
      },
      "source": [
        "#plot the training and validation accuracy and loss at each epoch\n",
        "import matplotlib.pyplot as plt\n",
        "loss = history.history['loss']\n",
        "val_loss = history.history['val_loss']\n",
        "epochs = range(1, len(loss) + 1)\n",
        "plt.plot(epochs, loss, 'y', label='Training loss')\n",
        "plt.plot(epochs, val_loss, 'r', label='Validation loss')\n",
        "plt.title('Training and validation loss')\n",
        "plt.xlabel('Epochs')\n",
        "plt.ylabel('Loss')\n",
        "plt.legend()\n",
        "plt.show()\n",
        "\n",
        "acc = history.history['accuracy']  #Use accuracy if acc doesn't work\n",
        "val_acc = history.history['val_accuracy']  #Use val_accuracy if acc doesn't work\n",
        "plt.plot(epochs, acc, 'y', label='Training acc')\n",
        "plt.plot(epochs, val_acc, 'r', label='Validation acc')\n",
        "plt.title('Training and validation accuracy')\n",
        "plt.xlabel('Epochs')\n",
        "plt.ylabel('Accuracy')\n",
        "plt.legend()\n",
        "plt.show()"
      ],
      "id": "B_OKiZtoW1jH",
      "execution_count": null,
      "outputs": [
        {
          "output_type": "display_data",
          "data": {
            "image/png": "[encoded data removed]",
            "text/plain": [
              "<Figure size 432x288 with 1 Axes>"
            ]
          },
          "metadata": {
            "tags": [],
            "needs_background": "light"
          }
        },
        {
          "output_type": "display_data",
          "data": {
            "image/png": "[encoded data removed]",
            "text/plain": [
              "<Figure size 432x288 with 1 Axes>"
            ]
          },
          "metadata": {
            "tags": [],
            "needs_background": "light"
          }
        }
      ]
    },
    {
      "cell_type": "code",
      "metadata": {
        "colab": {
          "base_uri": "https://localhost:8080/"
        },
        "id": "2LYxyCg28wVR",
        "outputId": "7c59be6e-bea4-44a6-c829-967a463457c6"
      },
      "source": [
        "e=model.evaluate(X_test,y_test)"
      ],
      "id": "2LYxyCg28wVR",
      "execution_count": null,
      "outputs": [
        {
          "output_type": "stream",
          "text": [
            "3/3 [==============================] - 41s 13s/step - loss: 0.5883 - accuracy: 0.7253\n"
          ],
          "name": "stdout"
        }
      ]
    },
    {
      "cell_type": "code",
      "metadata": {
        "id": "22264b5e"
      },
      "source": [
        "y_pred=model.predict(X_test)"
      ],
      "id": "22264b5e",
      "execution_count": null,
      "outputs": []
    },
    {
      "cell_type": "code",
      "metadata": {
        "colab": {
          "base_uri": "https://localhost:8080/"
        },
        "id": "A6WqRDisjrYt",
        "outputId": "b38def33-7564-4d13-d5e9-7a4aa2210c50"
      },
      "source": [
        "y_pred[0]"
      ],
      "id": "A6WqRDisjrYt",
      "execution_count": null,
      "outputs": [
        {
          "output_type": "execute_result",
          "data": {
            "text/plain": [
              "array([0.71317375, 0.28682622], dtype=float32)"
            ]
          },
          "metadata": {
            "tags": []
          },
          "execution_count": 57
        }
      ]
    },
    {
      "cell_type": "code",
      "metadata": {
        "colab": {
          "base_uri": "https://localhost:8080/"
        },
        "id": "RDdV3Ir7jsaY",
        "outputId": "7c977fa2-753c-4ca1-a990-7ce1e89b2d6d"
      },
      "source": [
        "y_test[0]"
      ],
      "id": "RDdV3Ir7jsaY",
      "execution_count": null,
      "outputs": [
        {
          "output_type": "execute_result",
          "data": {
            "text/plain": [
              "array([1., 0.], dtype=float32)"
            ]
          },
          "metadata": {
            "tags": []
          },
          "execution_count": 58
        }
      ]
    },
    {
      "cell_type": "code",
      "metadata": {
        "id": "s9fHPXnQjggF"
      },
      "source": [
        "Y_pred=[]\n",
        "for i in y_pred:\n",
        "    if i[0]>i[1]:\n",
        "        Y_pred.append(0)\n",
        "    else:\n",
        "        Y_pred.append(1)"
      ],
      "id": "s9fHPXnQjggF",
      "execution_count": null,
      "outputs": []
    },
    {
      "cell_type": "code",
      "metadata": {
        "id": "tjuxBSYgjh2S"
      },
      "source": [
        "Y_test=[]\n",
        "for i in y_test:\n",
        "    if i[0]>i[1]:\n",
        "        Y_test.append(0)\n",
        "    else:\n",
        "        Y_test.append(1)"
      ],
      "id": "tjuxBSYgjh2S",
      "execution_count": null,
      "outputs": []
    },
    {
      "cell_type": "code",
      "metadata": {
        "colab": {
          "base_uri": "https://localhost:8080/"
        },
        "id": "q2oIIFkjjlkI",
        "outputId": "6a53fbad-1c12-4d34-c5cf-98860d006ec1"
      },
      "source": [
        "from sklearn.metrics import classification_report, confusion_matrix\n",
        "print('Confusion Matrix')\n",
        "print(confusion_matrix(Y_test, Y_pred))\n",
        "print('Classification Report')\n",
        "print(classification_report(Y_test, Y_pred, target_names=['Class-0','Class-1']))"
      ],
      "id": "q2oIIFkjjlkI",
      "execution_count": null,
      "outputs": [
        {
          "output_type": "stream",
          "text": [
            "Confusion Matrix\n",
            "[[66  0]\n",
            " [25  0]]\n",
            "Classification Report\n",
            "              precision    recall  f1-score   support\n",
            "\n",
            "     Class-0       0.73      1.00      0.84        66\n",
            "     Class-1       0.00      0.00      0.00        25\n",
            "\n",
            "    accuracy                           0.73        91\n",
            "   macro avg       0.36      0.50      0.42        91\n",
            "weighted avg       0.53      0.73      0.61        91\n",
            "\n"
          ],
          "name": "stdout"
        },
        {
          "output_type": "stream",
          "text": [
            "/usr/local/lib/python3.7/dist-packages/sklearn/metrics/_classification.py:1272: UndefinedMetricWarning: Precision and F-score are ill-defined and being set to 0.0 in labels with no predicted samples. Use `zero_division` parameter to control this behavior.\n",
            "  _warn_prf(average, modifier, msg_start, len(result))\n"
          ],
          "name": "stderr"
        }
      ]
    },
    {
      "cell_type": "code",
      "metadata": {
        "id": "IGNrfCoI-yav"
      },
      "source": [
        "classes=[0,1]\n",
        "con_mat_df = pd.DataFrame(confusion_matrix(Y_test, Y_pred),index = classes, columns = classes)"
      ],
      "id": "IGNrfCoI-yav",
      "execution_count": null,
      "outputs": []
    },
    {
      "cell_type": "code",
      "metadata": {
        "colab": {
          "base_uri": "https://localhost:8080/",
          "height": 455
        },
        "id": "DuuJ0cSWkGWm",
        "outputId": "2696d3ff-1883-430d-b532-7f0f4f75e779"
      },
      "source": [
        "con_mat_df\n",
        "import seaborn as sns\n",
        "figure = plt.figure(figsize=(6, 6))\n",
        "sns.heatmap(con_mat_df, annot=True,cmap=plt.cm.cool,fmt='d')\n",
        "plt.tight_layout()\n",
        "plt.ylabel('Actual')\n",
        "plt.xlabel('Predicted')\n",
        "plt.show()"
      ],
      "id": "DuuJ0cSWkGWm",
      "execution_count": null,
      "outputs": [
        {
          "output_type": "display_data",
          "data": {
            "image/png": "[encoded data removed]",
            "text/plain": [
              "<Figure size 432x432 with 2 Axes>"
            ]
          },
          "metadata": {
            "tags": [],
            "needs_background": "light"
          }
        }
      ]
    }
  ]
}